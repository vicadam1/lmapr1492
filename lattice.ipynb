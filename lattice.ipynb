{
 "cells": [
  {
   "cell_type": "code",
   "execution_count": 1,
   "id": "fd7f9463",
   "metadata": {},
   "outputs": [
    {
     "name": "stdout",
     "output_type": "stream",
     "text": [
      "Vecteurs de base du réseau direct :\n",
      "a = 5.61, b = 5.61, c = 5.61\n",
      "alpha = 60.00°, beta = 60.00°, gamma = 60.00°\n",
      "Vecteurs de base du réseau réciproque :\n",
      "a* = 1.37, b* = 1.37, c* = 1.37\n",
      "alpha* = 109.47°, beta* = 109.47°, gamma* = 109.47°\n",
      "Type de maille : cubic\n",
      "Système cristallin : cubic\n",
      "Groupe ponctuel : m-3m\n"
     ]
    }
   ],
   "source": [
    "from pymatgen import MPRester, Structure\n",
    "from pymatgen.symmetry.analyzer import SpacegroupAnalyzer\n",
    "\n",
    "# Configuration de l'accès à l'API Materials Project\n",
    "mpr = MPRester(\"m5wyacFUOgt3WAfAgu9M\")\n",
    "\n",
    "# Téléchargement du fichier CIF du matériau Sr2SbAu\n",
    "cif_file = mpr.get_data(\"Sr2SbAu\")[0][\"cif\"]\n",
    "\n",
    "# Enregistrement du fichier CIF sur le disque dur\n",
    "with open(\"Sr2SbAu.cif\", \"w\") as f:\n",
    "    f.write(cif_file)\n",
    "\n",
    "# Lecture de la structure cristalline du matériau mp-867168\n",
    "structure = mpr.get_structure_by_material_id(\"mp-867168\")\n",
    "\n",
    "# Vecteurs de base du réseau direct\n",
    "a, b, c = structure.lattice.abc\n",
    "alpha, beta, gamma = structure.lattice.angles\n",
    "\n",
    "print(\"Vecteurs de base du réseau direct :\")\n",
    "print(f\"a = {a:.2f}, b = {b:.2f}, c = {c:.2f}\")\n",
    "print(f\"alpha = {alpha:.2f}°, beta = {beta:.2f}°, gamma = {gamma:.2f}°\")\n",
    "\n",
    "# Vecteurs de base du réseau réciproque\n",
    "reciprocal_lattice = structure.lattice.reciprocal_lattice\n",
    "a_star, b_star, c_star = reciprocal_lattice.abc\n",
    "alpha_star, beta_star, gamma_star = reciprocal_lattice.angles\n",
    "\n",
    "print(\"Vecteurs de base du réseau réciproque :\")\n",
    "print(f\"a* = {a_star:.2f}, b* = {b_star:.2f}, c* = {c_star:.2f}\")\n",
    "print(f\"alpha* = {alpha_star:.2f}°, beta* = {beta_star:.2f}°, gamma* = {gamma_star:.2f}°\")\n",
    "\n",
    "# Type de maille et système cristallin\n",
    "analyzer = SpacegroupAnalyzer(structure)\n",
    "crystal_system = analyzer.get_crystal_system()\n",
    "bravais_lattice = analyzer.get_lattice_type()\n",
    "\n",
    "print(\"Type de maille :\", bravais_lattice)\n",
    "print(\"Système cristallin :\", crystal_system)\n",
    "\n",
    "# Groupe ponctuel\n",
    "point_group = analyzer.get_point_group_symbol()\n",
    "\n",
    "print(\"Groupe ponctuel :\", point_group)\n"
   ]
  },
  {
   "cell_type": "code",
   "execution_count": null,
   "id": "d3d184d0",
   "metadata": {},
   "outputs": [],
   "source": []
  }
 ],
 "metadata": {
  "kernelspec": {
   "display_name": "Python 3",
   "language": "python",
   "name": "python3"
  },
  "language_info": {
   "codemirror_mode": {
    "name": "ipython",
    "version": 3
   },
   "file_extension": ".py",
   "mimetype": "text/x-python",
   "name": "python",
   "nbconvert_exporter": "python",
   "pygments_lexer": "ipython3",
   "version": "3.6.8"
  }
 },
 "nbformat": 4,
 "nbformat_minor": 5
}
