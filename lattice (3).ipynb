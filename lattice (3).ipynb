{
 "cells": [
  {
   "cell_type": "code",
   "execution_count": 10,
   "id": "d3d184d0",
   "metadata": {},
   "outputs": [],
   "source": [
    "from pymatgen.ext.matproj import MPRester\n",
    "from pymatgen.symmetry.analyzer import SpacegroupAnalyzer\n"
   ]
  },
  {
   "cell_type": "code",
   "execution_count": 11,
   "id": "4ac180f9",
   "metadata": {},
   "outputs": [],
   "source": [
    "with MPRester(\"m5wyacFUOgt3WAfAgu9M\") as m:\n",
    "    \n",
    "    #Sr2SbAu\n",
    "    structure = m.get_structure_by_material_id(\"mp-867168\")"
   ]
  },
  {
   "cell_type": "code",
   "execution_count": 12,
   "id": "2ff4724a",
   "metadata": {},
   "outputs": [
    {
     "name": "stdout",
     "output_type": "stream",
     "text": [
      "Les vecteurs de bases (a,b,c) du réseau direct sont: \n",
      "0.000000 3.968173 3.968173\n",
      "3.968173 0.000000 3.968173\n",
      "3.968173 3.968173 0.000000\n"
     ]
    }
   ],
   "source": [
    "#vecteurs de bases du réseau direct\n",
    "print(\"Les vecteurs de bases (a,b,c) du réseau direct sont: \")\n",
    "print(structure.lattice)"
   ]
  },
  {
   "cell_type": "code",
   "execution_count": 13,
   "id": "3833a7df",
   "metadata": {},
   "outputs": [
    {
     "name": "stdout",
     "output_type": "stream",
     "text": [
      "Les vecteurs de bases (a*,b*,c*) du réseau réciproque sont: \n",
      "-0.791698 0.791698 0.791698\n",
      "0.791698 -0.791698 0.791698\n",
      "0.791698 0.791698 -0.791698\n"
     ]
    }
   ],
   "source": [
    "##vecteurs de bases du réseau réciproque\n",
    "print(\"Les vecteurs de bases (a*,b*,c*) du réseau réciproque sont: \")\n",
    "print(structure.lattice.reciprocal_lattice)"
   ]
  },
  {
   "cell_type": "code",
   "execution_count": 14,
   "id": "30fc275e",
   "metadata": {},
   "outputs": [
    {
     "name": "stdout",
     "output_type": "stream",
     "text": [
      "Le type de maille est:\n",
      "cubic\n"
     ]
    }
   ],
   "source": [
    "print(\"Le type de maille est:\")\n",
    "print(SpacegroupAnalyzer(structure).get_lattice_type())"
   ]
  },
  {
   "cell_type": "code",
   "execution_count": 15,
   "id": "b7ed175e",
   "metadata": {},
   "outputs": [
    {
     "name": "stdout",
     "output_type": "stream",
     "text": [
      "Son groupe ponctuel est:\n",
      "m-3m\n"
     ]
    }
   ],
   "source": [
    "print(\"Son groupe ponctuel est:\")\n",
    "print(SpacegroupAnalyzer(structure).get_point_group_symbol())"
   ]
  }
 ],
 "metadata": {
  "kernelspec": {
   "display_name": "Python 3",
   "language": "python",
   "name": "python3"
  },
  "language_info": {
   "codemirror_mode": {
    "name": "ipython",
    "version": 3
   },
   "file_extension": ".py",
   "mimetype": "text/x-python",
   "name": "python",
   "nbconvert_exporter": "python",
   "pygments_lexer": "ipython3",
   "version": "3.6.8"
  }
 },
 "nbformat": 4,
 "nbformat_minor": 5
}
