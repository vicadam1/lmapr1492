{
 "cells": [
  {
   "cell_type": "code",
   "execution_count": 1,
   "id": "229efca0",
   "metadata": {},
   "outputs": [
    {
     "name": "stdout",
     "output_type": "stream",
     "text": [
      "Le fichier CIF Symmetrized pour mp-867168 a été téléchargé avec succès.\n"
     ]
    }
   ],
   "source": [
    "import requests\n",
    "\n",
    "material_id = 'mp-867168'\n",
    "api_key = 'm5wyacFUOgt3WAfAgu9M'\n",
    "url = f'https://legacy.materialsproject.org/materials/{material_id}/cif?API_KEY={api_key}'\n",
    "\n",
    "response = requests.get(url)\n",
    "\n",
    "\n",
    "if response.status_code == 200:\n",
    "   \n",
    "    with open(f'{material_id}.cif', 'w') as f:\n",
    "        f.write(response.text)\n",
    "    print(f'Le fichier CIF Symmetrized pour {material_id} a été téléchargé avec succès.')\n",
    "else:\n",
    "    print(f'Impossible de télécharger le fichier CIF Symmetrized pour {material_id}.')"
   ]
  },
  {
   "cell_type": "code",
   "execution_count": 2,
   "id": "30e3f764",
   "metadata": {},
   "outputs": [
    {
     "name": "stdout",
     "output_type": "stream",
     "text": [
      "['.ipynb_checkpoints', 'Untitled.ipynb', 'mp-867168.cif', '.bash_profile', '.ipython', '.local']\n"
     ]
    }
   ],
   "source": [
    "import os\n",
    "files = os.listdir('.')\n",
    "print(files)"
   ]
  },
  {
   "cell_type": "code",
   "execution_count": null,
   "id": "313dfb18",
   "metadata": {},
   "outputs": [],
   "source": []
  }
 ],
 "metadata": {
  "kernelspec": {
   "display_name": "Python 3",
   "language": "python",
   "name": "python3"
  },
  "language_info": {
   "codemirror_mode": {
    "name": "ipython",
    "version": 3
   },
   "file_extension": ".py",
   "mimetype": "text/x-python",
   "name": "python",
   "nbconvert_exporter": "python",
   "pygments_lexer": "ipython3",
   "version": "3.6.8"
  }
 },
 "nbformat": 4,
 "nbformat_minor": 5
}
