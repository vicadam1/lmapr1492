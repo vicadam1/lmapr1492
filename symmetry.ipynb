{
 "cells": [
  {
   "cell_type": "code",
   "execution_count": 1,
   "id": "3c41637e",
   "metadata": {},
   "outputs": [],
   "source": [
    "from pymatgen import Structure\n",
    "from pymatgen.symmetry.analyzer import SpacegroupAnalyzer\n",
    "from pymatgen.symmetry.analyzer import SpacegroupOperations\n",
    "from pymatgen.core.operations import SymmOp\n",
    "from pymatgen.ext.matproj import MPRester\n",
    "from jupyter_jsmol.pymatgen import quick_view"
   ]
  },
  {
   "cell_type": "code",
   "execution_count": 3,
   "id": "47a0b6a0",
   "metadata": {},
   "outputs": [
    {
     "data": {
      "application/vnd.jupyter.widget-view+json": {
       "model_id": "9364b6cb839e4e719524e20e3aece8e3",
       "version_major": 2,
       "version_minor": 0
      },
      "text/plain": [
       "JsmolView(layout=Layout(align_self='stretch', height='400px'))"
      ]
     },
     "metadata": {},
     "output_type": "display_data"
    }
   ],
   "source": [
    "with MPRester(\"m5wyacFUOgt3WAfAgu9M\") as m:\n",
    "\n",
    "    structure = m.get_structure_by_material_id(\"mp-867168\")\n",
    "    \n",
    "struct = SpacegroupAnalyzer(structure)\n",
    "struct_conv = struct.get_conventional_standard_structure()\n",
    "symmetrized_struct = struct.get_symmetrized_structure() # symetrique \n",
    "\n",
    "#récupération de la structure conventionnel qui correspond à la maille du fichier CIF symmetrized\n",
    "struct_analyze = SpacegroupAnalyzer(struct_conv)\n",
    "\n",
    "# récupération des opérations de symmétrie\n",
    "sym_op = struct_analyze.get_symmetry_operations()\n",
    "\n",
    "#représentation de la structure avec l'identité (pour visualiser)\n",
    "view = quick_view(struct_conv)\n",
    "display(view)\n",
    "view.script('draw symop 1 {atomno = 1}; select atomno=1; label on; color red')"
   ]
  },
  {
   "cell_type": "code",
   "execution_count": 11,
   "id": "f4827bef",
   "metadata": {},
   "outputs": [
    {
     "name": "stdout",
     "output_type": "stream",
     "text": [
      "[PeriodicSite: Sr (1.9841, 1.9841, 1.9841) [0.2500, 0.2500, 0.2500], PeriodicSite: Sr (5.9523, 5.9523, 5.9523) [0.7500, 0.7500, 0.7500], PeriodicSite: Sb (0.0000, 0.0000, 0.0000) [0.0000, 0.0000, 0.0000], PeriodicSite: Au (3.9682, 3.9682, 3.9682) [0.5000, 0.5000, 0.5000]]\n"
     ]
    }
   ],
   "source": [
    "summary=struct.get_primitive_standard_structure()\n",
    "\n",
    "Sr = [0.0000, 0.2500, 0.7500]\n",
    "Sb = [0.5000, 0.5000, 0.5000]\n",
    "Au = [0.2500, 0.2500, 0.2500]\n",
    "#vérification \n",
    "print(summary.sites)"
   ]
  },
  {
   "cell_type": "code",
   "execution_count": 20,
   "id": "74fe905f",
   "metadata": {},
   "outputs": [
    {
     "name": "stdout",
     "output_type": "stream",
     "text": [
      "La matrice de rotation :\n",
      " [[ 0. -1.  0.]\n",
      " [ 0.  0.  1.]\n",
      " [-1.  0.  0.]]\n",
      "Position initial de l'atome de Sr : [0.0, 0.25, 0.75]\n",
      "Position de l'atome de Sr après l'inversion: [-0.25  0.75  0.  ]\n"
     ]
    },
    {
     "data": {
      "application/vnd.jupyter.widget-view+json": {
       "model_id": "b33d79ab72554d6190d6a237f0bfc182",
       "version_major": 2,
       "version_minor": 0
      },
      "text/plain": [
       "JsmolView(layout=Layout(align_self='stretch', height='400px'))"
      ]
     },
     "metadata": {},
     "output_type": "display_data"
    }
   ],
   "source": [
    "#Premier élément de symmétrie\n",
    "\n",
    "s1 = SymmOp.from_xyz_string('-y,z,-x')\n",
    "rot1 = s1.rotation_matrix\n",
    "op1 = s1.operate(Sr)\n",
    "\n",
    "\n",
    "print(\"La matrice de rotation :\\n\",rot1)\n",
    "print(\"Position initial de l'atome de Sr :\",Sr)\n",
    "print(\"Position de l'atome de Sr après l'inversion:\",op1)\n",
    "\n",
    "#Affiche du cristal\n",
    "view = quick_view(struct_conv)\n",
    "display(view)\n",
    "view.script('draw symop 19 {atomno = 3}; select atomno=3; label on; color red')\n"
   ]
  },
  {
   "cell_type": "code",
   "execution_count": 18,
   "id": "80809606",
   "metadata": {},
   "outputs": [
    {
     "name": "stdout",
     "output_type": "stream",
     "text": [
      "La matrice de rotation :\n",
      " [[ 0. -1.  0.]\n",
      " [-1.  0.  0.]\n",
      " [ 0.  0.  1.]]\n",
      "Position initial de l'atome de Sb : [0.5, 0.5, 0.5]\n",
      "Position de l'atome de Sb après l'inversion: [0.  0.  0.5]\n"
     ]
    },
    {
     "data": {
      "application/vnd.jupyter.widget-view+json": {
       "model_id": "588b9f9073d34453b59c919c84070d3f",
       "version_major": 2,
       "version_minor": 0
      },
      "text/plain": [
       "JsmolView(layout=Layout(align_self='stretch', height='400px'))"
      ]
     },
     "metadata": {},
     "output_type": "display_data"
    }
   ],
   "source": [
    "#Deuxième élément de symmétrie\n",
    "\n",
    "s2 = SymmOp.from_xyz_string('-y+1/2,-x+1/2,z')\n",
    "rot2 = s2.rotation_matrix\n",
    "op2 = s2.operate(Sb)\n",
    "\n",
    "\n",
    "print(\"La matrice de rotation :\\n\",rot2)\n",
    "print(\"Position initial de l'atome de Sb :\",Sb)\n",
    "print(\"Position de l'atome de Sb après l'inversion:\",op2)\n",
    "\n",
    "view = quick_view(struct_conv)\n",
    "display(view)\n",
    "view.script('draw symop 32 {atomno = 1}; select atomno=1; label on; color red')\n"
   ]
  },
  {
   "cell_type": "code",
   "execution_count": 17,
   "id": "042858a4",
   "metadata": {},
   "outputs": [
    {
     "name": "stdout",
     "output_type": "stream",
     "text": [
      "Matrice de roto-inversion :\n",
      " [[ 0.  1.  0.]\n",
      " [-1.  0.  0.]\n",
      " [ 0.  0. -1.]]\n",
      " \n",
      "Position initial de l'atome de Au : [0.25, 0.25, 0.25]\n",
      "Position de l'atome de Au après l'inversion: [ 0.25 -0.25 -0.25]\n"
     ]
    },
    {
     "data": {
      "application/vnd.jupyter.widget-view+json": {
       "model_id": "80ac231071724ecab1e1363e03ae24a4",
       "version_major": 2,
       "version_minor": 0
      },
      "text/plain": [
       "JsmolView(layout=Layout(align_self='stretch', height='400px'))"
      ]
     },
     "metadata": {},
     "output_type": "display_data"
    }
   ],
   "source": [
    "#troisième rotation \n",
    "\n",
    "s3= SymmOp.from_xyz_string('y,-x,-z')\n",
    "rot3= s3.rotation_matrix\n",
    "op3= s3.operate(Au)\n",
    "\n",
    "\n",
    "print(\"La matrice de roto-inversion :\\n\",rot3)\n",
    "print(\"Position initial de l'atome de Au :\",Au)\n",
    "print(\"Position de l'atome de Au après l'inversion:\",op3)\n",
    "\n",
    "view = quick_view(struct_conv)\n",
    "display(view)\n",
    "view.script('draw symop 2 {atomno = 2}; select atomno=2; label on; color red')\n"
   ]
  }
 ],
 "metadata": {
  "kernelspec": {
   "display_name": "Python 3",
   "language": "python",
   "name": "python3"
  },
  "language_info": {
   "codemirror_mode": {
    "name": "ipython",
    "version": 3
   },
   "file_extension": ".py",
   "mimetype": "text/x-python",
   "name": "python",
   "nbconvert_exporter": "python",
   "pygments_lexer": "ipython3",
   "version": "3.6.8"
  }
 },
 "nbformat": 4,
 "nbformat_minor": 5
}
